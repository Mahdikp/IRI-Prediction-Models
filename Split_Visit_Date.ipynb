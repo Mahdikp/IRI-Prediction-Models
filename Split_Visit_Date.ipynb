{
  "nbformat": 4,
  "nbformat_minor": 0,
  "metadata": {
    "colab": {
      "provenance": []
    },
    "kernelspec": {
      "name": "python3",
      "display_name": "Python 3"
    },
    "language_info": {
      "name": "python"
    }
  },
  "cells": [
    {
      "cell_type": "code",
      "execution_count": null,
      "metadata": {
        "id": "YofAmmcOzNPh"
      },
      "outputs": [],
      "source": [
        "import numpy as np\n",
        "import pandas as pd\n",
        "\n",
        "o = pd.read_csv('IRI.csv')\n",
        "\n",
        "#df = pd.DataFrame(o,columns = [\"STATE_CODE\",\"STATE_CODE_EXP\", \"SHRP_ID\", \"CONSTRUCTION_NO\", \"LAYER_NO\", \"PROJECT_LAYER_CODE\"\n",
        "                            #   ,\"DESCRIPTION\",\"DESCRIPTION_EXP\", \"LAYER_TYPE\",\"LAYER_TYPE_EXP\", \"REPR_THICKNESS\" ,\"MATL_CODE_EXP\", \"TOTAL_THICKNESS\"])\n",
        "df = pd.DataFrame(o,columns = ['VISIT_DATE'])\n",
        "\n",
        "df.head()\n",
        "\n",
        "#df.tail()\n",
        "\n",
        "#df.describe()\n",
        "\n",
        "#df.info()\n",
        "\n",
        "#df.isna().sum()\n",
        "\n",
        "df1=pd.DatetimeIndex(df[\"VISIT_DATE\"])\n",
        "\n",
        "df[\"Year of Start_Time\"]=df1.year\n",
        "df[\"Month of Start_Time\"]=df1.month\n",
        "df[\"Day of Start_Time\"]=df1.day\n",
        "\n",
        "\n",
        "df.to_csv('year.csv')\n",
        "\n",
        "\n",
        "\n",
        "#frames = []\n",
        "#for i in df[\"STATE_CODE\"].unique():\n",
        "  #for j in df[\"SHRP_ID\"].unique():\n",
        "    #for k in df[\"CONSTRUCTION_NO\"].unique():\n",
        "     #ACT_T = df[(df[\"STATE_CODE\"]==i) & (df[\"SHRP_ID\"]==j) & (df[\"CONSTRUCTION_NO\"]==k)]\n",
        "     #ACT_T[\"TOTAL_THICKNESS\"].fillna(round(ACT_T['REPR_THICKNESS'].sum(),3), inplace=True)\n",
        "     #frames.append(ACT_T)\n",
        "#result = pd.concat(frames)\n",
        "# Y_S_1994_801 = df[(df[\"Year of Start_Time\"]==1994) & (df[\"SHRP_ID\"]==801)]\n",
        "# Y_S_1994_801['IRI_CENTER_LANE'].fillna(round(Y_S_1994_801['MRI'].mean(),3), inplace=True)\n",
        "# Y_S_1994_801\n"
      ]
    }
  ]
}